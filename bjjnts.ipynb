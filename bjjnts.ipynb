{
 "cells": [
  {
   "cell_type": "code",
   "execution_count": 19,
   "metadata": {},
   "outputs": [],
   "source": [
    "from selenium import webdriver\n",
    "from selenium.webdriver.common.by import By\n",
    "from selenium.webdriver.support.ui import WebDriverWait\n",
    "from selenium.webdriver.support import expected_conditions as EC"
   ]
  },
  {
   "cell_type": "code",
   "execution_count": 20,
   "metadata": {},
   "outputs": [],
   "source": [
    "driver = webdriver.Firefox()\n",
    "driver.get(\"https://www.bjjnts.cn/login\")\n",
    "driver.maximize_window()"
   ]
  },
  {
   "cell_type": "code",
   "execution_count": 21,
   "metadata": {},
   "outputs": [],
   "source": [
    "driver.get(\"https://www.bjjnts.cn/lessonStudy/210/4598\")"
   ]
  },
  {
   "cell_type": "code",
   "execution_count": 22,
   "metadata": {},
   "outputs": [],
   "source": [
    "course_study_videomenu = WebDriverWait(driver, 10, 0.5).until(\n",
    "    EC.presence_of_element_located((By.CLASS_NAME, \"course_study_videomenu\"))\n",
    ")"
   ]
  },
  {
   "cell_type": "code",
   "execution_count": 23,
   "metadata": {},
   "outputs": [],
   "source": [
    "new_demoul = course_study_videomenu.find_element_by_tag_name(\"ul\")"
   ]
  },
  {
   "cell_type": "code",
   "execution_count": 24,
   "metadata": {},
   "outputs": [],
   "source": [
    "li_list = new_demoul.find_elements_by_tag_name(\"li\")"
   ]
  },
  {
   "cell_type": "code",
   "execution_count": 25,
   "metadata": {},
   "outputs": [],
   "source": [
    "li_1 = new_demoul.find_elements_by_tag_name(\"li\")[1]"
   ]
  },
  {
   "cell_type": "code",
   "execution_count": 26,
   "metadata": {},
   "outputs": [],
   "source": [
    "li_1.click()"
   ]
  },
  {
   "cell_type": "code",
   "execution_count": 58,
   "metadata": {},
   "outputs": [],
   "source": [
    "course_study_videomenu = WebDriverWait(driver, 10, 0.5).until(\n",
    "    EC.presence_of_element_located((By.CLASS_NAME, \"course_study_videomenu\"))\n",
    ")\n",
    "new_demoul = course_study_videomenu.find_element_by_tag_name(\"ul\")\n",
    "li_list = new_demoul.find_elements_by_tag_name(\"li\")"
   ]
  },
  {
   "cell_type": "code",
   "execution_count": 59,
   "metadata": {},
   "outputs": [],
   "source": [
    "li_6 = new_demoul.find_elements_by_tag_name(\"li\")[6]"
   ]
  },
  {
   "cell_type": "code",
   "execution_count": 60,
   "metadata": {},
   "outputs": [],
   "source": [
    "li_6.click()"
   ]
  },
  {
   "cell_type": "code",
   "execution_count": 61,
   "metadata": {},
   "outputs": [],
   "source": [
    "course_study_videobox = driver.find_element_by_class_name(\"course_study_videobox\")"
   ]
  },
  {
   "cell_type": "code",
   "execution_count": 62,
   "metadata": {},
   "outputs": [],
   "source": [
    "play = course_study_videobox.find_element_by_tag_name(\"video\")"
   ]
  },
  {
   "cell_type": "code",
   "execution_count": 63,
   "metadata": {},
   "outputs": [],
   "source": [
    "play.click()"
   ]
  },
  {
   "cell_type": "code",
   "execution_count": 53,
   "metadata": {},
   "outputs": [],
   "source": [
    "accept = driver.find_element_by_class_name(\"layui-layer-btn0\")"
   ]
  },
  {
   "cell_type": "code",
   "execution_count": 54,
   "metadata": {},
   "outputs": [],
   "source": [
    "accept.click()"
   ]
  },
  {
   "cell_type": "code",
   "execution_count": 9,
   "metadata": {},
   "outputs": [
    {
     "name": "stdout",
     "output_type": "stream",
     "text": [
      "课程导论 \n",
      "我是一个高度近视的人 \n",
      "我是身材短粗胖的人 \n",
      "我是一个笨小孩 \n",
      "我是一个重情义的人 \n",
      "我是一个目标模糊的人 \n",
      "如何回答五个问题 \n",
      "负面的心理暗示 \n",
      "积极的心理暗示 \n",
      "实践 \n",
      "弗洛伊德理论基本 \n",
      "三我之本我 \n",
      "三我之自我 \n",
      "三我之超我 \n",
      "中外理论对比 \n",
      "名人具体案例 \n",
      "建议接受本我 \n",
      "结合哈工大校训诠释超我 \n",
      "主动设置监督系统 \n",
      "设置能量转换开关 \n",
      "跳出本我——运动 \n",
      "跳出你的井 \n",
      "不建议的做法 \n",
      "埃里克森8阶段理论 \n",
      "环境决定作用 \n",
      "第一阶段：信任对不信任 \n",
      "第二阶段、第三阶段:自主对羞怯怀疑、主动性对内疚 \n",
      "第四阶段：勤奋对自卑 \n",
      "第五阶段：同一性对角色混乱 \n",
      "第五阶段案例 \n",
      "第六阶段：亲密对孤独 \n",
      "第七阶段：生育对自我关注 \n",
      "第八阶段：自我调整对绝望 \n",
      "关于冲突的度的把握 \n",
      "阿德勒自卑与超越理论 \n",
      "自卑感能使人努力克服缺陷 \n",
      "认识生活的意义在哪里 \n",
      "关于自卑的中外理论对比 \n",
      "矮矬穷造成的自卑 \n",
      "源于成绩产生的自卑 \n",
      "末代班长与自卑 \n",
      "不适应导致的自卑 \n",
      "寻找自卑的根源 \n",
      "大学期间的自信培养 \n",
      "阿德勒自卑理论不仅适用于个人 \n",
      "情绪管理理论 \n",
      "五个假设 \n",
      "生活中不合理的B \n",
      "找到生活中的B \n",
      "勇于接受挑战 \n",
      "培养创新思维 \n",
      "转变观念很重要 \n",
      "加德纳多元智能理论 \n",
      "八种智能之语言智能 \n",
      "八种智能之空间智能 \n",
      "八种智能之人际智能 \n",
      "对号入座扬长避短 \n",
      "作业：对应理论看清自己 \n",
      "什么推动人格发展 \n",
      "需求的层次 \n",
      "约拿情结与高峰体验 \n",
      "成为自己的线索 \n",
      "活在当下 \n",
      "成为自我实现的人（马斯洛的其他建议） \n"
     ]
    }
   ],
   "source": [
    "for li in new_demoul.find_elements_by_tag_name(\"li\"):\n",
    "    div = li.find_element_by_tag_name(\"div\")\n",
    "    a = div.find_element_by_tag_name(\"a\")\n",
    "    h4 = a.find_element_by_tag_name(\"h4\")\n",
    "    video_name = h4.text.split(\"(\")[0]\n",
    "    print(video_name)"
   ]
  },
  {
   "cell_type": "code",
   "execution_count": null,
   "metadata": {},
   "outputs": [],
   "source": []
  }
 ],
 "metadata": {
  "kernelspec": {
   "display_name": "Python 3",
   "language": "python",
   "name": "python3"
  },
  "language_info": {
   "codemirror_mode": {
    "name": "ipython",
    "version": 3
   },
   "file_extension": ".py",
   "mimetype": "text/x-python",
   "name": "python",
   "nbconvert_exporter": "python",
   "pygments_lexer": "ipython3",
   "version": "3.7.6"
  }
 },
 "nbformat": 4,
 "nbformat_minor": 4
}
