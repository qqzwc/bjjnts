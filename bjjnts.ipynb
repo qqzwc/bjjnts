{
 "cells": [
  {
   "cell_type": "code",
   "execution_count": 20,
   "metadata": {},
   "outputs": [],
   "source": [
    "from selenium import webdriver\n",
    "from selenium.webdriver.common.by import By\n",
    "from selenium.webdriver.support.ui import WebDriverWait\n",
    "from selenium.webdriver.support import expected_conditions as EC"
   ]
  },
  {
   "cell_type": "code",
   "execution_count": 21,
   "metadata": {},
   "outputs": [],
   "source": [
    "driver = webdriver.Firefox()\n",
    "driver.get(\"https://www.bjjnts.cn/login\")\n",
    "driver.maximize_window()"
   ]
  },
  {
   "cell_type": "code",
   "execution_count": 22,
   "metadata": {},
   "outputs": [],
   "source": [
    "cur_url = driver.current_url"
   ]
  },
  {
   "cell_type": "code",
   "execution_count": 23,
   "metadata": {},
   "outputs": [
    {
     "name": "stdout",
     "output_type": "stream",
     "text": [
      "['https:', '', 'www.bjjnts.cn', 'lessonStudy', '210']\n",
      "https://www.bjjnts.cn/lessonStudy/210\n",
      "4596\n",
      "<class 'str'>\n"
     ]
    }
   ],
   "source": [
    "url_template = cur_url.split(\"/\")[:-1]\n",
    "print(url_template)\n",
    "url_template = '/'.join(url_template)\n",
    "print(url_template)\n",
    "first = cur_url.split(\"/\")[-1]\n",
    "print(first)\n",
    "print(type(first))"
   ]
  },
  {
   "cell_type": "code",
   "execution_count": 24,
   "metadata": {},
   "outputs": [],
   "source": [
    "course_study_videomenu = WebDriverWait(driver, 10, 0.5).until(\n",
    "    EC.presence_of_element_located((By.CLASS_NAME, \"course_study_videomenu\"))\n",
    ")"
   ]
  },
  {
   "cell_type": "code",
   "execution_count": 25,
   "metadata": {},
   "outputs": [],
   "source": [
    "new_demoul = course_study_videomenu.find_element_by_tag_name(\"ul\")"
   ]
  },
  {
   "cell_type": "code",
   "execution_count": 26,
   "metadata": {},
   "outputs": [],
   "source": [
    "li_list = new_demoul.find_elements_by_tag_name(\"li\")"
   ]
  },
  {
   "cell_type": "code",
   "execution_count": 27,
   "metadata": {},
   "outputs": [],
   "source": [
    "video_num = len(li_list)"
   ]
  },
  {
   "cell_type": "code",
   "execution_count": 28,
   "metadata": {},
   "outputs": [
    {
     "name": "stdout",
     "output_type": "stream",
     "text": [
      "64\n"
     ]
    }
   ],
   "source": [
    "print(video_num)"
   ]
  },
  {
   "cell_type": "code",
   "execution_count": 29,
   "metadata": {},
   "outputs": [
    {
     "name": "stdout",
     "output_type": "stream",
     "text": [
      "https://www.bjjnts.cn/lessonStudy/210/4596\n",
      "https://www.bjjnts.cn/lessonStudy/210/4597\n",
      "https://www.bjjnts.cn/lessonStudy/210/4598\n",
      "https://www.bjjnts.cn/lessonStudy/210/4599\n",
      "https://www.bjjnts.cn/lessonStudy/210/4600\n",
      "https://www.bjjnts.cn/lessonStudy/210/4601\n",
      "https://www.bjjnts.cn/lessonStudy/210/4602\n",
      "https://www.bjjnts.cn/lessonStudy/210/4603\n",
      "https://www.bjjnts.cn/lessonStudy/210/4604\n",
      "https://www.bjjnts.cn/lessonStudy/210/4605\n",
      "https://www.bjjnts.cn/lessonStudy/210/4606\n",
      "https://www.bjjnts.cn/lessonStudy/210/4607\n",
      "https://www.bjjnts.cn/lessonStudy/210/4608\n",
      "https://www.bjjnts.cn/lessonStudy/210/4609\n",
      "https://www.bjjnts.cn/lessonStudy/210/4610\n",
      "https://www.bjjnts.cn/lessonStudy/210/4611\n",
      "https://www.bjjnts.cn/lessonStudy/210/4612\n",
      "https://www.bjjnts.cn/lessonStudy/210/4613\n",
      "https://www.bjjnts.cn/lessonStudy/210/4614\n",
      "https://www.bjjnts.cn/lessonStudy/210/4615\n",
      "https://www.bjjnts.cn/lessonStudy/210/4616\n",
      "https://www.bjjnts.cn/lessonStudy/210/4617\n",
      "https://www.bjjnts.cn/lessonStudy/210/4618\n",
      "https://www.bjjnts.cn/lessonStudy/210/4619\n",
      "https://www.bjjnts.cn/lessonStudy/210/4620\n",
      "https://www.bjjnts.cn/lessonStudy/210/4621\n",
      "https://www.bjjnts.cn/lessonStudy/210/4622\n",
      "https://www.bjjnts.cn/lessonStudy/210/4623\n",
      "https://www.bjjnts.cn/lessonStudy/210/4624\n",
      "https://www.bjjnts.cn/lessonStudy/210/4625\n",
      "https://www.bjjnts.cn/lessonStudy/210/4626\n",
      "https://www.bjjnts.cn/lessonStudy/210/4627\n",
      "https://www.bjjnts.cn/lessonStudy/210/4628\n",
      "https://www.bjjnts.cn/lessonStudy/210/4629\n",
      "https://www.bjjnts.cn/lessonStudy/210/4630\n",
      "https://www.bjjnts.cn/lessonStudy/210/4631\n",
      "https://www.bjjnts.cn/lessonStudy/210/4632\n",
      "https://www.bjjnts.cn/lessonStudy/210/4633\n",
      "https://www.bjjnts.cn/lessonStudy/210/4634\n",
      "https://www.bjjnts.cn/lessonStudy/210/4635\n",
      "https://www.bjjnts.cn/lessonStudy/210/4636\n",
      "https://www.bjjnts.cn/lessonStudy/210/4637\n",
      "https://www.bjjnts.cn/lessonStudy/210/4638\n",
      "https://www.bjjnts.cn/lessonStudy/210/4639\n",
      "https://www.bjjnts.cn/lessonStudy/210/4640\n",
      "https://www.bjjnts.cn/lessonStudy/210/4641\n",
      "https://www.bjjnts.cn/lessonStudy/210/4642\n",
      "https://www.bjjnts.cn/lessonStudy/210/4643\n",
      "https://www.bjjnts.cn/lessonStudy/210/4644\n",
      "https://www.bjjnts.cn/lessonStudy/210/4645\n",
      "https://www.bjjnts.cn/lessonStudy/210/4646\n",
      "https://www.bjjnts.cn/lessonStudy/210/4647\n",
      "https://www.bjjnts.cn/lessonStudy/210/4648\n",
      "https://www.bjjnts.cn/lessonStudy/210/4649\n",
      "https://www.bjjnts.cn/lessonStudy/210/4650\n",
      "https://www.bjjnts.cn/lessonStudy/210/4651\n",
      "https://www.bjjnts.cn/lessonStudy/210/4652\n",
      "https://www.bjjnts.cn/lessonStudy/210/4653\n",
      "https://www.bjjnts.cn/lessonStudy/210/4654\n",
      "https://www.bjjnts.cn/lessonStudy/210/4655\n",
      "https://www.bjjnts.cn/lessonStudy/210/4656\n",
      "https://www.bjjnts.cn/lessonStudy/210/4657\n",
      "https://www.bjjnts.cn/lessonStudy/210/4658\n",
      "https://www.bjjnts.cn/lessonStudy/210/4659\n"
     ]
    }
   ],
   "source": [
    "first = int(first)\n",
    "url_list = []\n",
    "for i in range(0,video_num):\n",
    "    index = str(first + i)\n",
    "    url = url_template + \"/\" + index\n",
    "    print(url)\n",
    "    url_list.append(url)"
   ]
  },
  {
   "cell_type": "code",
   "execution_count": 59,
   "metadata": {},
   "outputs": [],
   "source": [
    "li_1 = new_demoul.find_elements_by_tag_name(\"li\")[1]"
   ]
  },
  {
   "cell_type": "code",
   "execution_count": 60,
   "metadata": {},
   "outputs": [],
   "source": []
  },
  {
   "cell_type": "code",
   "execution_count": 7,
   "metadata": {},
   "outputs": [],
   "source": [
    "course_study_videobox = driver.find_element_by_class_name(\"course_study_videobox\")"
   ]
  },
  {
   "cell_type": "code",
   "execution_count": 8,
   "metadata": {},
   "outputs": [],
   "source": [
    "play = course_study_videobox.find_element_by_tag_name(\"video\")"
   ]
  },
  {
   "cell_type": "code",
   "execution_count": 9,
   "metadata": {},
   "outputs": [],
   "source": [
    "play.click()"
   ]
  },
  {
   "cell_type": "code",
   "execution_count": 53,
   "metadata": {},
   "outputs": [],
   "source": [
    "accept = driver.find_element_by_class_name(\"layui-layer-btn0\")"
   ]
  },
  {
   "cell_type": "code",
   "execution_count": 54,
   "metadata": {},
   "outputs": [],
   "source": [
    "accept.click()"
   ]
  },
  {
   "cell_type": "code",
   "execution_count": 32,
   "metadata": {},
   "outputs": [
    {
     "name": "stdout",
     "output_type": "stream",
     "text": [
      "课程导论\n",
      "next\n",
      "已完成\n",
      "100%\n",
      "我是一个高度近视的人\n",
      "next\n",
      "已完成\n",
      "100%\n",
      "我是身材短粗胖的人\n",
      "next\n",
      "已完成\n",
      "100%\n",
      "我是一个笨小孩\n",
      "next\n",
      "已完成\n",
      "100%\n",
      "我是一个重情义的人\n",
      "next\n",
      "已完成\n",
      "100%\n",
      "我是一个目标模糊的人\n",
      "next\n",
      "已完成\n",
      "100%\n",
      "如何回答五个问题\n",
      "next\n",
      "已完成\n",
      "100%\n",
      "负面的心理暗示\n",
      "next\n",
      "已完成\n",
      "100%\n",
      "积极的心理暗示\n",
      "next\n",
      "已完成\n",
      "100%\n",
      "实践\n",
      "next\n",
      "已完成\n",
      "100%\n",
      "弗洛伊德理论基本\n",
      "next\n",
      "已完成\n",
      "100%\n",
      "三我之本我\n",
      "已完成\n",
      "17.62%\n",
      "三我之自我\n",
      "\n",
      "三我之超我\n",
      "已完成\n",
      "22.07%\n",
      "中外理论对比\n",
      "\n",
      "名人具体案例\n",
      "\n",
      "建议接受本我\n",
      "\n",
      "结合哈工大校训诠释超我\n",
      "\n",
      "主动设置监督系统\n",
      "\n",
      "设置能量转换开关\n",
      "\n",
      "跳出本我——运动\n",
      "\n",
      "跳出你的井\n",
      "\n",
      "不建议的做法\n",
      "\n",
      "埃里克森8阶段理论\n",
      "\n",
      "环境决定作用\n",
      "\n",
      "第一阶段：信任对不信任\n",
      "\n",
      "第二阶段、第三阶段:自主对羞怯怀疑、主动性对内疚\n",
      "\n",
      "第四阶段：勤奋对自卑\n",
      "\n",
      "第五阶段：同一性对角色混乱\n",
      "\n",
      "第五阶段案例\n",
      "\n",
      "第六阶段：亲密对孤独\n",
      "\n",
      "第七阶段：生育对自我关注\n",
      "\n",
      "第八阶段：自我调整对绝望\n",
      "\n",
      "关于冲突的度的把握\n",
      "\n",
      "阿德勒自卑与超越理论\n",
      "\n",
      "自卑感能使人努力克服缺陷\n",
      "\n",
      "认识生活的意义在哪里\n",
      "\n",
      "关于自卑的中外理论对比\n",
      "\n",
      "矮矬穷造成的自卑\n",
      "\n",
      "源于成绩产生的自卑\n",
      "\n",
      "末代班长与自卑\n",
      "\n",
      "不适应导致的自卑\n",
      "\n",
      "寻找自卑的根源\n",
      "\n",
      "大学期间的自信培养\n",
      "\n",
      "阿德勒自卑理论不仅适用于个人\n",
      "\n",
      "情绪管理理论\n",
      "\n",
      "五个假设\n",
      "\n",
      "生活中不合理的B\n",
      "\n",
      "找到生活中的B\n",
      "\n",
      "勇于接受挑战\n",
      "\n",
      "培养创新思维\n",
      "\n",
      "转变观念很重要\n",
      "\n",
      "加德纳多元智能理论\n",
      "\n",
      "八种智能之语言智能\n",
      "\n",
      "八种智能之空间智能\n",
      "\n",
      "八种智能之人际智能\n",
      "\n",
      "对号入座扬长避短\n",
      "\n",
      "作业：对应理论看清自己\n",
      "\n",
      "什么推动人格发展\n",
      "\n",
      "需求的层次\n",
      "\n",
      "约拿情结与高峰体验\n",
      "\n",
      "成为自己的线索\n",
      "\n",
      "活在当下\n",
      "\n",
      "成为自我实现的人（马斯洛的其他建议）\n",
      "\n"
     ]
    }
   ],
   "source": [
    "for li in new_demoul.find_elements_by_tag_name(\"li\"):\n",
    "    div = li.find_element_by_tag_name(\"div\")\n",
    "    a = div.find_element_by_tag_name(\"a\")\n",
    "    h4 = a.find_element_by_tag_name(\"h4\")\n",
    "    video_name = h4.text.split(\"(\")[0]\n",
    "    print(video_name)\n",
    "    span = a.find_element_by_tag_name(\"span\")\n",
    "    if \"100%\"  in span.text:\n",
    "        print(\"next\")\n",
    "    print(span.text)"
   ]
  },
  {
   "cell_type": "code",
   "execution_count": 19,
   "metadata": {},
   "outputs": [],
   "source": [
    "import pyautogui"
   ]
  },
  {
   "cell_type": "code",
   "execution_count": null,
   "metadata": {},
   "outputs": [],
   "source": []
  }
 ],
 "metadata": {
  "kernelspec": {
   "display_name": "Python 3",
   "language": "python",
   "name": "python3"
  },
  "language_info": {
   "codemirror_mode": {
    "name": "ipython",
    "version": 3
   },
   "file_extension": ".py",
   "mimetype": "text/x-python",
   "name": "python",
   "nbconvert_exporter": "python",
   "pygments_lexer": "ipython3",
   "version": "3.7.6"
  }
 },
 "nbformat": 4,
 "nbformat_minor": 4
}
